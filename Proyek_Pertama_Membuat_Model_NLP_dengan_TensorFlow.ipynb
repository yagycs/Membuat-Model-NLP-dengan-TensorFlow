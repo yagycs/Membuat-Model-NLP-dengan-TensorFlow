{
  "nbformat": 4,
  "nbformat_minor": 0,
  "metadata": {
    "colab": {
      "provenance": [],
      "collapsed_sections": []
    },
    "kernelspec": {
      "name": "python3",
      "display_name": "Python 3"
    },
    "language_info": {
      "name": "python"
    },
    "accelerator": "GPU"
  },
  "cells": [
    {
      "cell_type": "markdown",
      "source": [
        "Belajar Pengembangan Machine Learning<br>\n",
        "Proyek Pertama : Membuat Model NLP dengan TensorFlow<br>\n",
        "Nama  : Yagy Christoper Sumule<br>\n",
        "Email : yagybatman@gmail.com"
      ],
      "metadata": {
        "id": "coar9jhk7xy2"
      }
    },
    {
      "cell_type": "markdown",
      "source": [
        "Kriteria: \n",
        "* Dataset yang akan dipakai bebas, namun minimal memiliki 1000 sampel.\n",
        "* Harus menggunakan LSTM dalam arsitektur model.\n",
        "* Harus menggunakan model sequential.\n",
        "* Validation set sebesar 20% dari total dataset.\n",
        "* Harus menggunakan Embedding.\n",
        "* Harus menggunakan fungsi tokenizer.\n",
        "* Akurasi dari model minimal 75% pada train set dan validation set.\n",
        "---\n",
        "Anda dapat menerapkan beberapa saran untuk mendapatkan nilai tinggi, berikut sarannya:\n",
        "* Akurasi dari model di atas 80%.\n",
        "* Mengimplementasikan callback.\n",
        "* Membuat plot loss dan akurasi pada saat training dan validation.\n",
        "---\n",
        "Detail penilaian submission:\n",
        "* Bintang 5 : Semua ketentuan terpenuhi, dataset memiliki 3 kelas atau lebih dan minimal 2000 sampel data. Serta akurasi pada training set dan validation set di atas 90%."
      ],
      "metadata": {
        "id": "S_BgsPXv_71K"
      }
    },
    {
      "cell_type": "code",
      "source": [
        "import pandas as pd\n",
        "from sklearn.model_selection import train_test_split\n",
        "from tensorflow.keras.preprocessing.text import Tokenizer\n",
        "from tensorflow.keras.preprocessing.sequence import pad_sequences\n",
        "import tensorflow as tf\n",
        "import matplotlib.pyplot as plt\n",
        "import nltk\n",
        "import re\n",
        "from nltk.corpus import stopwords\n",
        "from nltk.tokenize import word_tokenize\n",
        "nltk.download('stopwords')"
      ],
      "metadata": {
        "colab": {
          "base_uri": "https://localhost:8080/"
        },
        "id": "Y5ZjYjrlbKyO",
        "outputId": "f4fba911-0402-496b-8b90-9c6187488dc5"
      },
      "execution_count": 1,
      "outputs": [
        {
          "output_type": "stream",
          "name": "stderr",
          "text": [
            "[nltk_data] Downloading package stopwords to /root/nltk_data...\n",
            "[nltk_data]   Unzipping corpora/stopwords.zip.\n"
          ]
        },
        {
          "output_type": "execute_result",
          "data": {
            "text/plain": [
              "True"
            ]
          },
          "metadata": {},
          "execution_count": 1
        }
      ]
    },
    {
      "cell_type": "code",
      "execution_count": 2,
      "metadata": {
        "id": "YszTFNPd6ynK"
      },
      "outputs": [],
      "source": [
        "df = pd.read_csv('subjects-questions.csv')"
      ]
    },
    {
      "cell_type": "code",
      "source": [
        "df.head()"
      ],
      "metadata": {
        "colab": {
          "base_uri": "https://localhost:8080/",
          "height": 206
        },
        "id": "Oi26chldDzvW",
        "outputId": "ccb5fb82-5c86-4a88-87f0-da26da6724ec"
      },
      "execution_count": 3,
      "outputs": [
        {
          "output_type": "execute_result",
          "data": {
            "text/plain": [
              "                                                 eng    Subject\n",
              "0  An anti-forest measure is\\nA. Afforestation\\nB...    Biology\n",
              "1  Among the following organic acids, the acid pr...  Chemistry\n",
              "2  If the area of two similar triangles are equal...      Maths\n",
              "3  In recent year, there has been a growing\\nconc...    Biology\n",
              "4  Which of the following statement\\nregarding tr...    Physics"
            ],
            "text/html": [
              "\n",
              "  <div id=\"df-8569dfb0-a37d-45bc-b6e3-4696944842a9\">\n",
              "    <div class=\"colab-df-container\">\n",
              "      <div>\n",
              "<style scoped>\n",
              "    .dataframe tbody tr th:only-of-type {\n",
              "        vertical-align: middle;\n",
              "    }\n",
              "\n",
              "    .dataframe tbody tr th {\n",
              "        vertical-align: top;\n",
              "    }\n",
              "\n",
              "    .dataframe thead th {\n",
              "        text-align: right;\n",
              "    }\n",
              "</style>\n",
              "<table border=\"1\" class=\"dataframe\">\n",
              "  <thead>\n",
              "    <tr style=\"text-align: right;\">\n",
              "      <th></th>\n",
              "      <th>eng</th>\n",
              "      <th>Subject</th>\n",
              "    </tr>\n",
              "  </thead>\n",
              "  <tbody>\n",
              "    <tr>\n",
              "      <th>0</th>\n",
              "      <td>An anti-forest measure is\\nA. Afforestation\\nB...</td>\n",
              "      <td>Biology</td>\n",
              "    </tr>\n",
              "    <tr>\n",
              "      <th>1</th>\n",
              "      <td>Among the following organic acids, the acid pr...</td>\n",
              "      <td>Chemistry</td>\n",
              "    </tr>\n",
              "    <tr>\n",
              "      <th>2</th>\n",
              "      <td>If the area of two similar triangles are equal...</td>\n",
              "      <td>Maths</td>\n",
              "    </tr>\n",
              "    <tr>\n",
              "      <th>3</th>\n",
              "      <td>In recent year, there has been a growing\\nconc...</td>\n",
              "      <td>Biology</td>\n",
              "    </tr>\n",
              "    <tr>\n",
              "      <th>4</th>\n",
              "      <td>Which of the following statement\\nregarding tr...</td>\n",
              "      <td>Physics</td>\n",
              "    </tr>\n",
              "  </tbody>\n",
              "</table>\n",
              "</div>\n",
              "      <button class=\"colab-df-convert\" onclick=\"convertToInteractive('df-8569dfb0-a37d-45bc-b6e3-4696944842a9')\"\n",
              "              title=\"Convert this dataframe to an interactive table.\"\n",
              "              style=\"display:none;\">\n",
              "        \n",
              "  <svg xmlns=\"http://www.w3.org/2000/svg\" height=\"24px\"viewBox=\"0 0 24 24\"\n",
              "       width=\"24px\">\n",
              "    <path d=\"M0 0h24v24H0V0z\" fill=\"none\"/>\n",
              "    <path d=\"M18.56 5.44l.94 2.06.94-2.06 2.06-.94-2.06-.94-.94-2.06-.94 2.06-2.06.94zm-11 1L8.5 8.5l.94-2.06 2.06-.94-2.06-.94L8.5 2.5l-.94 2.06-2.06.94zm10 10l.94 2.06.94-2.06 2.06-.94-2.06-.94-.94-2.06-.94 2.06-2.06.94z\"/><path d=\"M17.41 7.96l-1.37-1.37c-.4-.4-.92-.59-1.43-.59-.52 0-1.04.2-1.43.59L10.3 9.45l-7.72 7.72c-.78.78-.78 2.05 0 2.83L4 21.41c.39.39.9.59 1.41.59.51 0 1.02-.2 1.41-.59l7.78-7.78 2.81-2.81c.8-.78.8-2.07 0-2.86zM5.41 20L4 18.59l7.72-7.72 1.47 1.35L5.41 20z\"/>\n",
              "  </svg>\n",
              "      </button>\n",
              "      \n",
              "  <style>\n",
              "    .colab-df-container {\n",
              "      display:flex;\n",
              "      flex-wrap:wrap;\n",
              "      gap: 12px;\n",
              "    }\n",
              "\n",
              "    .colab-df-convert {\n",
              "      background-color: #E8F0FE;\n",
              "      border: none;\n",
              "      border-radius: 50%;\n",
              "      cursor: pointer;\n",
              "      display: none;\n",
              "      fill: #1967D2;\n",
              "      height: 32px;\n",
              "      padding: 0 0 0 0;\n",
              "      width: 32px;\n",
              "    }\n",
              "\n",
              "    .colab-df-convert:hover {\n",
              "      background-color: #E2EBFA;\n",
              "      box-shadow: 0px 1px 2px rgba(60, 64, 67, 0.3), 0px 1px 3px 1px rgba(60, 64, 67, 0.15);\n",
              "      fill: #174EA6;\n",
              "    }\n",
              "\n",
              "    [theme=dark] .colab-df-convert {\n",
              "      background-color: #3B4455;\n",
              "      fill: #D2E3FC;\n",
              "    }\n",
              "\n",
              "    [theme=dark] .colab-df-convert:hover {\n",
              "      background-color: #434B5C;\n",
              "      box-shadow: 0px 1px 3px 1px rgba(0, 0, 0, 0.15);\n",
              "      filter: drop-shadow(0px 1px 2px rgba(0, 0, 0, 0.3));\n",
              "      fill: #FFFFFF;\n",
              "    }\n",
              "  </style>\n",
              "\n",
              "      <script>\n",
              "        const buttonEl =\n",
              "          document.querySelector('#df-8569dfb0-a37d-45bc-b6e3-4696944842a9 button.colab-df-convert');\n",
              "        buttonEl.style.display =\n",
              "          google.colab.kernel.accessAllowed ? 'block' : 'none';\n",
              "\n",
              "        async function convertToInteractive(key) {\n",
              "          const element = document.querySelector('#df-8569dfb0-a37d-45bc-b6e3-4696944842a9');\n",
              "          const dataTable =\n",
              "            await google.colab.kernel.invokeFunction('convertToInteractive',\n",
              "                                                     [key], {});\n",
              "          if (!dataTable) return;\n",
              "\n",
              "          const docLinkHtml = 'Like what you see? Visit the ' +\n",
              "            '<a target=\"_blank\" href=https://colab.research.google.com/notebooks/data_table.ipynb>data table notebook</a>'\n",
              "            + ' to learn more about interactive tables.';\n",
              "          element.innerHTML = '';\n",
              "          dataTable['output_type'] = 'display_data';\n",
              "          await google.colab.output.renderOutput(dataTable, element);\n",
              "          const docLink = document.createElement('div');\n",
              "          docLink.innerHTML = docLinkHtml;\n",
              "          element.appendChild(docLink);\n",
              "        }\n",
              "      </script>\n",
              "    </div>\n",
              "  </div>\n",
              "  "
            ]
          },
          "metadata": {},
          "execution_count": 3
        }
      ]
    },
    {
      "cell_type": "code",
      "source": [
        "df.isnull().values.any()"
      ],
      "metadata": {
        "colab": {
          "base_uri": "https://localhost:8080/"
        },
        "id": "oVxWuwTGD5rO",
        "outputId": "a6f92f49-7b90-42be-bed9-c4b667b25b30"
      },
      "execution_count": 4,
      "outputs": [
        {
          "output_type": "execute_result",
          "data": {
            "text/plain": [
              "False"
            ]
          },
          "metadata": {},
          "execution_count": 4
        }
      ]
    },
    {
      "cell_type": "code",
      "source": [
        "# case folding\n",
        "def clean_lower(lwr):\n",
        "  lwr = lwr.lower() # lowercase text\n",
        "  return lwr\n",
        "\n",
        "# Buat kolom tambahan untuk data description yang telah dicasefolding  \n",
        "df['lwr'] = df['eng'].apply(clean_lower)\n",
        "casefolding=pd.DataFrame(df['lwr'])\n",
        "casefolding"
      ],
      "metadata": {
        "colab": {
          "base_uri": "https://localhost:8080/",
          "height": 424
        },
        "id": "gXAGsIO-j5id",
        "outputId": "236ea022-5ec2-48ef-fa48-5731f026ee62"
      },
      "execution_count": 5,
      "outputs": [
        {
          "output_type": "execute_result",
          "data": {
            "text/plain": [
              "                                                      lwr\n",
              "0       an anti-forest measure is\\na. afforestation\\nb...\n",
              "1       among the following organic acids, the acid pr...\n",
              "2       if the area of two similar triangles are equal...\n",
              "3       in recent year, there has been a growing\\nconc...\n",
              "4       which of the following statement\\nregarding tr...\n",
              "...                                                   ...\n",
              "122514  which of the following group of\\ncharacters is...\n",
              "122515  light year is the\\na. light emitted by the sun...\n",
              "122516  member of dipnoi are native of\\na. india.\\nb. ...\n",
              "122517  in one average-life,\\na. half the active nucle...\n",
              "122518  state whether true or false.\\na magnetic field...\n",
              "\n",
              "[122519 rows x 1 columns]"
            ],
            "text/html": [
              "\n",
              "  <div id=\"df-8c3fb27a-5591-42a6-882c-1581f445f9f0\">\n",
              "    <div class=\"colab-df-container\">\n",
              "      <div>\n",
              "<style scoped>\n",
              "    .dataframe tbody tr th:only-of-type {\n",
              "        vertical-align: middle;\n",
              "    }\n",
              "\n",
              "    .dataframe tbody tr th {\n",
              "        vertical-align: top;\n",
              "    }\n",
              "\n",
              "    .dataframe thead th {\n",
              "        text-align: right;\n",
              "    }\n",
              "</style>\n",
              "<table border=\"1\" class=\"dataframe\">\n",
              "  <thead>\n",
              "    <tr style=\"text-align: right;\">\n",
              "      <th></th>\n",
              "      <th>lwr</th>\n",
              "    </tr>\n",
              "  </thead>\n",
              "  <tbody>\n",
              "    <tr>\n",
              "      <th>0</th>\n",
              "      <td>an anti-forest measure is\\na. afforestation\\nb...</td>\n",
              "    </tr>\n",
              "    <tr>\n",
              "      <th>1</th>\n",
              "      <td>among the following organic acids, the acid pr...</td>\n",
              "    </tr>\n",
              "    <tr>\n",
              "      <th>2</th>\n",
              "      <td>if the area of two similar triangles are equal...</td>\n",
              "    </tr>\n",
              "    <tr>\n",
              "      <th>3</th>\n",
              "      <td>in recent year, there has been a growing\\nconc...</td>\n",
              "    </tr>\n",
              "    <tr>\n",
              "      <th>4</th>\n",
              "      <td>which of the following statement\\nregarding tr...</td>\n",
              "    </tr>\n",
              "    <tr>\n",
              "      <th>...</th>\n",
              "      <td>...</td>\n",
              "    </tr>\n",
              "    <tr>\n",
              "      <th>122514</th>\n",
              "      <td>which of the following group of\\ncharacters is...</td>\n",
              "    </tr>\n",
              "    <tr>\n",
              "      <th>122515</th>\n",
              "      <td>light year is the\\na. light emitted by the sun...</td>\n",
              "    </tr>\n",
              "    <tr>\n",
              "      <th>122516</th>\n",
              "      <td>member of dipnoi are native of\\na. india.\\nb. ...</td>\n",
              "    </tr>\n",
              "    <tr>\n",
              "      <th>122517</th>\n",
              "      <td>in one average-life,\\na. half the active nucle...</td>\n",
              "    </tr>\n",
              "    <tr>\n",
              "      <th>122518</th>\n",
              "      <td>state whether true or false.\\na magnetic field...</td>\n",
              "    </tr>\n",
              "  </tbody>\n",
              "</table>\n",
              "<p>122519 rows × 1 columns</p>\n",
              "</div>\n",
              "      <button class=\"colab-df-convert\" onclick=\"convertToInteractive('df-8c3fb27a-5591-42a6-882c-1581f445f9f0')\"\n",
              "              title=\"Convert this dataframe to an interactive table.\"\n",
              "              style=\"display:none;\">\n",
              "        \n",
              "  <svg xmlns=\"http://www.w3.org/2000/svg\" height=\"24px\"viewBox=\"0 0 24 24\"\n",
              "       width=\"24px\">\n",
              "    <path d=\"M0 0h24v24H0V0z\" fill=\"none\"/>\n",
              "    <path d=\"M18.56 5.44l.94 2.06.94-2.06 2.06-.94-2.06-.94-.94-2.06-.94 2.06-2.06.94zm-11 1L8.5 8.5l.94-2.06 2.06-.94-2.06-.94L8.5 2.5l-.94 2.06-2.06.94zm10 10l.94 2.06.94-2.06 2.06-.94-2.06-.94-.94-2.06-.94 2.06-2.06.94z\"/><path d=\"M17.41 7.96l-1.37-1.37c-.4-.4-.92-.59-1.43-.59-.52 0-1.04.2-1.43.59L10.3 9.45l-7.72 7.72c-.78.78-.78 2.05 0 2.83L4 21.41c.39.39.9.59 1.41.59.51 0 1.02-.2 1.41-.59l7.78-7.78 2.81-2.81c.8-.78.8-2.07 0-2.86zM5.41 20L4 18.59l7.72-7.72 1.47 1.35L5.41 20z\"/>\n",
              "  </svg>\n",
              "      </button>\n",
              "      \n",
              "  <style>\n",
              "    .colab-df-container {\n",
              "      display:flex;\n",
              "      flex-wrap:wrap;\n",
              "      gap: 12px;\n",
              "    }\n",
              "\n",
              "    .colab-df-convert {\n",
              "      background-color: #E8F0FE;\n",
              "      border: none;\n",
              "      border-radius: 50%;\n",
              "      cursor: pointer;\n",
              "      display: none;\n",
              "      fill: #1967D2;\n",
              "      height: 32px;\n",
              "      padding: 0 0 0 0;\n",
              "      width: 32px;\n",
              "    }\n",
              "\n",
              "    .colab-df-convert:hover {\n",
              "      background-color: #E2EBFA;\n",
              "      box-shadow: 0px 1px 2px rgba(60, 64, 67, 0.3), 0px 1px 3px 1px rgba(60, 64, 67, 0.15);\n",
              "      fill: #174EA6;\n",
              "    }\n",
              "\n",
              "    [theme=dark] .colab-df-convert {\n",
              "      background-color: #3B4455;\n",
              "      fill: #D2E3FC;\n",
              "    }\n",
              "\n",
              "    [theme=dark] .colab-df-convert:hover {\n",
              "      background-color: #434B5C;\n",
              "      box-shadow: 0px 1px 3px 1px rgba(0, 0, 0, 0.15);\n",
              "      filter: drop-shadow(0px 1px 2px rgba(0, 0, 0, 0.3));\n",
              "      fill: #FFFFFF;\n",
              "    }\n",
              "  </style>\n",
              "\n",
              "      <script>\n",
              "        const buttonEl =\n",
              "          document.querySelector('#df-8c3fb27a-5591-42a6-882c-1581f445f9f0 button.colab-df-convert');\n",
              "        buttonEl.style.display =\n",
              "          google.colab.kernel.accessAllowed ? 'block' : 'none';\n",
              "\n",
              "        async function convertToInteractive(key) {\n",
              "          const element = document.querySelector('#df-8c3fb27a-5591-42a6-882c-1581f445f9f0');\n",
              "          const dataTable =\n",
              "            await google.colab.kernel.invokeFunction('convertToInteractive',\n",
              "                                                     [key], {});\n",
              "          if (!dataTable) return;\n",
              "\n",
              "          const docLinkHtml = 'Like what you see? Visit the ' +\n",
              "            '<a target=\"_blank\" href=https://colab.research.google.com/notebooks/data_table.ipynb>data table notebook</a>'\n",
              "            + ' to learn more about interactive tables.';\n",
              "          element.innerHTML = '';\n",
              "          dataTable['output_type'] = 'display_data';\n",
              "          await google.colab.output.renderOutput(dataTable, element);\n",
              "          const docLink = document.createElement('div');\n",
              "          docLink.innerHTML = docLinkHtml;\n",
              "          element.appendChild(docLink);\n",
              "        }\n",
              "      </script>\n",
              "    </div>\n",
              "  </div>\n",
              "  "
            ]
          },
          "metadata": {},
          "execution_count": 5
        }
      ]
    },
    {
      "cell_type": "code",
      "source": [
        "#Remove Puncutuation\n",
        "clean_spcl = re.compile('[/(){}\\[\\]\\|@,;]')\n",
        "clean_symbol = re.compile('[^0-9a-z]')\n",
        "def clean_punct(text):\n",
        "    text = clean_spcl.sub('', text)\n",
        "    text = clean_symbol.sub(' ', text)\n",
        "    return text\n",
        "\n",
        "# Buat kolom tambahan untuk data description yang telah diremovepunctuation   \n",
        "df['clean_punct'] = df['lwr'].apply(clean_punct)\n",
        "df['clean_punct']"
      ],
      "metadata": {
        "colab": {
          "base_uri": "https://localhost:8080/"
        },
        "id": "ivUIFuA0o6Xz",
        "outputId": "1f872a20-db2b-4a4c-94b7-27282d1951a8"
      },
      "execution_count": 6,
      "outputs": [
        {
          "output_type": "execute_result",
          "data": {
            "text/plain": [
              "0         an anti forest measure is a  afforestation b  ...\n",
              "1         among the following organic acids the acid pre...\n",
              "2         if the area of two similar triangles are equal...\n",
              "3         in recent year there has been a growing concer...\n",
              "4         which of the following statement regarding tra...\n",
              "                                ...                        \n",
              "122514    which of the following group of characters is ...\n",
              "122515    light year is the a  light emitted by the sun ...\n",
              "122516    member of dipnoi are native of a  india  b  af...\n",
              "122517    in one average life a  half the active nuclei ...\n",
              "122518    state whether true or false  a magnetic field ...\n",
              "Name: clean_punct, Length: 122519, dtype: object"
            ]
          },
          "metadata": {},
          "execution_count": 6
        }
      ]
    },
    {
      "cell_type": "code",
      "source": [
        "#clean stopwords\n",
        "stopword = set(stopwords.words('english'))\n",
        "\n",
        "def clean_stopwords(text):\n",
        "    text = ' '.join(word for word in text.split() if word not in stopword) # hapus stopword dari kolom deskripsi\n",
        "    return text\n",
        "\n",
        "# Buat kolom tambahan untuk data description yang telah distopwordsremoval   \n",
        "df['clean_sw'] = df['clean_punct'].apply(clean_stopwords)\n",
        "\n",
        "add = pd.DataFrame(df['clean_sw'])\n",
        "df['add_swr']= add.replace(to_replace =['whether','yes','also','thanks','take','whatever',\n",
        "                    'making','makes','taking','takes','ok','oh','etc',\n",
        "                                        \"yep\"],  \n",
        "                            value =\"\", regex= True) \n",
        "df['add_swr']"
      ],
      "metadata": {
        "colab": {
          "base_uri": "https://localhost:8080/"
        },
        "id": "ZuXFkEndpm45",
        "outputId": "47d4a868-8381-41e1-c089-107ec0ac31b3"
      },
      "execution_count": 7,
      "outputs": [
        {
          "output_type": "execute_result",
          "data": {
            "text/plain": [
              "0         anti forest measure afforestation b selective ...\n",
              "1         among following organic acids acid present ran...\n",
              "2         area two similar triangles equal equilateral b...\n",
              "3         recent year growing concern gradually increasi...\n",
              "4         following statement regarding transformer inco...\n",
              "                                ...                        \n",
              "122514    following group characters present chordates s...\n",
              "122515    light year light emitted sun one year b time n...\n",
              "122516    member dipnoi native india b africa australia ...\n",
              "122517    one average life half active nuclei decay b le...\n",
              "122518    state  true false magnetic field region around...\n",
              "Name: add_swr, Length: 122519, dtype: object"
            ]
          },
          "metadata": {},
          "execution_count": 7
        }
      ]
    },
    {
      "cell_type": "code",
      "source": [
        "df.head()"
      ],
      "metadata": {
        "colab": {
          "base_uri": "https://localhost:8080/",
          "height": 337
        },
        "id": "2j4AvjT3mkGg",
        "outputId": "b816c707-dbe5-40f7-de03-6754e9061605"
      },
      "execution_count": 8,
      "outputs": [
        {
          "output_type": "execute_result",
          "data": {
            "text/plain": [
              "                                                 eng    Subject  \\\n",
              "0  An anti-forest measure is\\nA. Afforestation\\nB...    Biology   \n",
              "1  Among the following organic acids, the acid pr...  Chemistry   \n",
              "2  If the area of two similar triangles are equal...      Maths   \n",
              "3  In recent year, there has been a growing\\nconc...    Biology   \n",
              "4  Which of the following statement\\nregarding tr...    Physics   \n",
              "\n",
              "                                                 lwr  \\\n",
              "0  an anti-forest measure is\\na. afforestation\\nb...   \n",
              "1  among the following organic acids, the acid pr...   \n",
              "2  if the area of two similar triangles are equal...   \n",
              "3  in recent year, there has been a growing\\nconc...   \n",
              "4  which of the following statement\\nregarding tr...   \n",
              "\n",
              "                                         clean_punct  \\\n",
              "0  an anti forest measure is a  afforestation b  ...   \n",
              "1  among the following organic acids the acid pre...   \n",
              "2  if the area of two similar triangles are equal...   \n",
              "3  in recent year there has been a growing concer...   \n",
              "4  which of the following statement regarding tra...   \n",
              "\n",
              "                                            clean_sw  \\\n",
              "0  anti forest measure afforestation b selective ...   \n",
              "1  among following organic acids acid present ran...   \n",
              "2  area two similar triangles equal equilateral b...   \n",
              "3  recent year growing concern gradually increasi...   \n",
              "4  following statement regarding transformer inco...   \n",
              "\n",
              "                                             add_swr  \n",
              "0  anti forest measure afforestation b selective ...  \n",
              "1  among following organic acids acid present ran...  \n",
              "2  area two similar triangles equal equilateral b...  \n",
              "3  recent year growing concern gradually increasi...  \n",
              "4  following statement regarding transformer inco...  "
            ],
            "text/html": [
              "\n",
              "  <div id=\"df-600a5d51-0dc1-4ecb-8538-d3fed5653e19\">\n",
              "    <div class=\"colab-df-container\">\n",
              "      <div>\n",
              "<style scoped>\n",
              "    .dataframe tbody tr th:only-of-type {\n",
              "        vertical-align: middle;\n",
              "    }\n",
              "\n",
              "    .dataframe tbody tr th {\n",
              "        vertical-align: top;\n",
              "    }\n",
              "\n",
              "    .dataframe thead th {\n",
              "        text-align: right;\n",
              "    }\n",
              "</style>\n",
              "<table border=\"1\" class=\"dataframe\">\n",
              "  <thead>\n",
              "    <tr style=\"text-align: right;\">\n",
              "      <th></th>\n",
              "      <th>eng</th>\n",
              "      <th>Subject</th>\n",
              "      <th>lwr</th>\n",
              "      <th>clean_punct</th>\n",
              "      <th>clean_sw</th>\n",
              "      <th>add_swr</th>\n",
              "    </tr>\n",
              "  </thead>\n",
              "  <tbody>\n",
              "    <tr>\n",
              "      <th>0</th>\n",
              "      <td>An anti-forest measure is\\nA. Afforestation\\nB...</td>\n",
              "      <td>Biology</td>\n",
              "      <td>an anti-forest measure is\\na. afforestation\\nb...</td>\n",
              "      <td>an anti forest measure is a  afforestation b  ...</td>\n",
              "      <td>anti forest measure afforestation b selective ...</td>\n",
              "      <td>anti forest measure afforestation b selective ...</td>\n",
              "    </tr>\n",
              "    <tr>\n",
              "      <th>1</th>\n",
              "      <td>Among the following organic acids, the acid pr...</td>\n",
              "      <td>Chemistry</td>\n",
              "      <td>among the following organic acids, the acid pr...</td>\n",
              "      <td>among the following organic acids the acid pre...</td>\n",
              "      <td>among following organic acids acid present ran...</td>\n",
              "      <td>among following organic acids acid present ran...</td>\n",
              "    </tr>\n",
              "    <tr>\n",
              "      <th>2</th>\n",
              "      <td>If the area of two similar triangles are equal...</td>\n",
              "      <td>Maths</td>\n",
              "      <td>if the area of two similar triangles are equal...</td>\n",
              "      <td>if the area of two similar triangles are equal...</td>\n",
              "      <td>area two similar triangles equal equilateral b...</td>\n",
              "      <td>area two similar triangles equal equilateral b...</td>\n",
              "    </tr>\n",
              "    <tr>\n",
              "      <th>3</th>\n",
              "      <td>In recent year, there has been a growing\\nconc...</td>\n",
              "      <td>Biology</td>\n",
              "      <td>in recent year, there has been a growing\\nconc...</td>\n",
              "      <td>in recent year there has been a growing concer...</td>\n",
              "      <td>recent year growing concern gradually increasi...</td>\n",
              "      <td>recent year growing concern gradually increasi...</td>\n",
              "    </tr>\n",
              "    <tr>\n",
              "      <th>4</th>\n",
              "      <td>Which of the following statement\\nregarding tr...</td>\n",
              "      <td>Physics</td>\n",
              "      <td>which of the following statement\\nregarding tr...</td>\n",
              "      <td>which of the following statement regarding tra...</td>\n",
              "      <td>following statement regarding transformer inco...</td>\n",
              "      <td>following statement regarding transformer inco...</td>\n",
              "    </tr>\n",
              "  </tbody>\n",
              "</table>\n",
              "</div>\n",
              "      <button class=\"colab-df-convert\" onclick=\"convertToInteractive('df-600a5d51-0dc1-4ecb-8538-d3fed5653e19')\"\n",
              "              title=\"Convert this dataframe to an interactive table.\"\n",
              "              style=\"display:none;\">\n",
              "        \n",
              "  <svg xmlns=\"http://www.w3.org/2000/svg\" height=\"24px\"viewBox=\"0 0 24 24\"\n",
              "       width=\"24px\">\n",
              "    <path d=\"M0 0h24v24H0V0z\" fill=\"none\"/>\n",
              "    <path d=\"M18.56 5.44l.94 2.06.94-2.06 2.06-.94-2.06-.94-.94-2.06-.94 2.06-2.06.94zm-11 1L8.5 8.5l.94-2.06 2.06-.94-2.06-.94L8.5 2.5l-.94 2.06-2.06.94zm10 10l.94 2.06.94-2.06 2.06-.94-2.06-.94-.94-2.06-.94 2.06-2.06.94z\"/><path d=\"M17.41 7.96l-1.37-1.37c-.4-.4-.92-.59-1.43-.59-.52 0-1.04.2-1.43.59L10.3 9.45l-7.72 7.72c-.78.78-.78 2.05 0 2.83L4 21.41c.39.39.9.59 1.41.59.51 0 1.02-.2 1.41-.59l7.78-7.78 2.81-2.81c.8-.78.8-2.07 0-2.86zM5.41 20L4 18.59l7.72-7.72 1.47 1.35L5.41 20z\"/>\n",
              "  </svg>\n",
              "      </button>\n",
              "      \n",
              "  <style>\n",
              "    .colab-df-container {\n",
              "      display:flex;\n",
              "      flex-wrap:wrap;\n",
              "      gap: 12px;\n",
              "    }\n",
              "\n",
              "    .colab-df-convert {\n",
              "      background-color: #E8F0FE;\n",
              "      border: none;\n",
              "      border-radius: 50%;\n",
              "      cursor: pointer;\n",
              "      display: none;\n",
              "      fill: #1967D2;\n",
              "      height: 32px;\n",
              "      padding: 0 0 0 0;\n",
              "      width: 32px;\n",
              "    }\n",
              "\n",
              "    .colab-df-convert:hover {\n",
              "      background-color: #E2EBFA;\n",
              "      box-shadow: 0px 1px 2px rgba(60, 64, 67, 0.3), 0px 1px 3px 1px rgba(60, 64, 67, 0.15);\n",
              "      fill: #174EA6;\n",
              "    }\n",
              "\n",
              "    [theme=dark] .colab-df-convert {\n",
              "      background-color: #3B4455;\n",
              "      fill: #D2E3FC;\n",
              "    }\n",
              "\n",
              "    [theme=dark] .colab-df-convert:hover {\n",
              "      background-color: #434B5C;\n",
              "      box-shadow: 0px 1px 3px 1px rgba(0, 0, 0, 0.15);\n",
              "      filter: drop-shadow(0px 1px 2px rgba(0, 0, 0, 0.3));\n",
              "      fill: #FFFFFF;\n",
              "    }\n",
              "  </style>\n",
              "\n",
              "      <script>\n",
              "        const buttonEl =\n",
              "          document.querySelector('#df-600a5d51-0dc1-4ecb-8538-d3fed5653e19 button.colab-df-convert');\n",
              "        buttonEl.style.display =\n",
              "          google.colab.kernel.accessAllowed ? 'block' : 'none';\n",
              "\n",
              "        async function convertToInteractive(key) {\n",
              "          const element = document.querySelector('#df-600a5d51-0dc1-4ecb-8538-d3fed5653e19');\n",
              "          const dataTable =\n",
              "            await google.colab.kernel.invokeFunction('convertToInteractive',\n",
              "                                                     [key], {});\n",
              "          if (!dataTable) return;\n",
              "\n",
              "          const docLinkHtml = 'Like what you see? Visit the ' +\n",
              "            '<a target=\"_blank\" href=https://colab.research.google.com/notebooks/data_table.ipynb>data table notebook</a>'\n",
              "            + ' to learn more about interactive tables.';\n",
              "          element.innerHTML = '';\n",
              "          dataTable['output_type'] = 'display_data';\n",
              "          await google.colab.output.renderOutput(dataTable, element);\n",
              "          const docLink = document.createElement('div');\n",
              "          docLink.innerHTML = docLinkHtml;\n",
              "          element.appendChild(docLink);\n",
              "        }\n",
              "      </script>\n",
              "    </div>\n",
              "  </div>\n",
              "  "
            ]
          },
          "metadata": {},
          "execution_count": 8
        }
      ]
    },
    {
      "cell_type": "code",
      "source": [
        "course = pd.get_dummies(df.Subject)\n",
        "df_baru = pd.concat([df, course], axis=1)\n",
        "df_baru = df_baru.drop(columns='Subject')\n",
        "df_baru = df_baru.drop(columns='eng')\n",
        "df_baru = df_baru.drop(columns='lwr')\n",
        "df_baru = df_baru.drop(columns='clean_punct')\n",
        "df_baru = df_baru.drop(columns='clean_sw')\n",
        "df_baru.head()"
      ],
      "metadata": {
        "colab": {
          "base_uri": "https://localhost:8080/",
          "height": 206
        },
        "id": "S54VoILIEIsw",
        "outputId": "d573be9a-7fe3-40cf-98dc-104626293869"
      },
      "execution_count": 9,
      "outputs": [
        {
          "output_type": "execute_result",
          "data": {
            "text/plain": [
              "                                             add_swr  Biology  Chemistry  \\\n",
              "0  anti forest measure afforestation b selective ...        1          0   \n",
              "1  among following organic acids acid present ran...        0          1   \n",
              "2  area two similar triangles equal equilateral b...        0          0   \n",
              "3  recent year growing concern gradually increasi...        1          0   \n",
              "4  following statement regarding transformer inco...        0          0   \n",
              "\n",
              "   Maths  Physics  \n",
              "0      0        0  \n",
              "1      0        0  \n",
              "2      1        0  \n",
              "3      0        0  \n",
              "4      0        1  "
            ],
            "text/html": [
              "\n",
              "  <div id=\"df-4c535508-f518-4d41-9fcc-f281100bbf87\">\n",
              "    <div class=\"colab-df-container\">\n",
              "      <div>\n",
              "<style scoped>\n",
              "    .dataframe tbody tr th:only-of-type {\n",
              "        vertical-align: middle;\n",
              "    }\n",
              "\n",
              "    .dataframe tbody tr th {\n",
              "        vertical-align: top;\n",
              "    }\n",
              "\n",
              "    .dataframe thead th {\n",
              "        text-align: right;\n",
              "    }\n",
              "</style>\n",
              "<table border=\"1\" class=\"dataframe\">\n",
              "  <thead>\n",
              "    <tr style=\"text-align: right;\">\n",
              "      <th></th>\n",
              "      <th>add_swr</th>\n",
              "      <th>Biology</th>\n",
              "      <th>Chemistry</th>\n",
              "      <th>Maths</th>\n",
              "      <th>Physics</th>\n",
              "    </tr>\n",
              "  </thead>\n",
              "  <tbody>\n",
              "    <tr>\n",
              "      <th>0</th>\n",
              "      <td>anti forest measure afforestation b selective ...</td>\n",
              "      <td>1</td>\n",
              "      <td>0</td>\n",
              "      <td>0</td>\n",
              "      <td>0</td>\n",
              "    </tr>\n",
              "    <tr>\n",
              "      <th>1</th>\n",
              "      <td>among following organic acids acid present ran...</td>\n",
              "      <td>0</td>\n",
              "      <td>1</td>\n",
              "      <td>0</td>\n",
              "      <td>0</td>\n",
              "    </tr>\n",
              "    <tr>\n",
              "      <th>2</th>\n",
              "      <td>area two similar triangles equal equilateral b...</td>\n",
              "      <td>0</td>\n",
              "      <td>0</td>\n",
              "      <td>1</td>\n",
              "      <td>0</td>\n",
              "    </tr>\n",
              "    <tr>\n",
              "      <th>3</th>\n",
              "      <td>recent year growing concern gradually increasi...</td>\n",
              "      <td>1</td>\n",
              "      <td>0</td>\n",
              "      <td>0</td>\n",
              "      <td>0</td>\n",
              "    </tr>\n",
              "    <tr>\n",
              "      <th>4</th>\n",
              "      <td>following statement regarding transformer inco...</td>\n",
              "      <td>0</td>\n",
              "      <td>0</td>\n",
              "      <td>0</td>\n",
              "      <td>1</td>\n",
              "    </tr>\n",
              "  </tbody>\n",
              "</table>\n",
              "</div>\n",
              "      <button class=\"colab-df-convert\" onclick=\"convertToInteractive('df-4c535508-f518-4d41-9fcc-f281100bbf87')\"\n",
              "              title=\"Convert this dataframe to an interactive table.\"\n",
              "              style=\"display:none;\">\n",
              "        \n",
              "  <svg xmlns=\"http://www.w3.org/2000/svg\" height=\"24px\"viewBox=\"0 0 24 24\"\n",
              "       width=\"24px\">\n",
              "    <path d=\"M0 0h24v24H0V0z\" fill=\"none\"/>\n",
              "    <path d=\"M18.56 5.44l.94 2.06.94-2.06 2.06-.94-2.06-.94-.94-2.06-.94 2.06-2.06.94zm-11 1L8.5 8.5l.94-2.06 2.06-.94-2.06-.94L8.5 2.5l-.94 2.06-2.06.94zm10 10l.94 2.06.94-2.06 2.06-.94-2.06-.94-.94-2.06-.94 2.06-2.06.94z\"/><path d=\"M17.41 7.96l-1.37-1.37c-.4-.4-.92-.59-1.43-.59-.52 0-1.04.2-1.43.59L10.3 9.45l-7.72 7.72c-.78.78-.78 2.05 0 2.83L4 21.41c.39.39.9.59 1.41.59.51 0 1.02-.2 1.41-.59l7.78-7.78 2.81-2.81c.8-.78.8-2.07 0-2.86zM5.41 20L4 18.59l7.72-7.72 1.47 1.35L5.41 20z\"/>\n",
              "  </svg>\n",
              "      </button>\n",
              "      \n",
              "  <style>\n",
              "    .colab-df-container {\n",
              "      display:flex;\n",
              "      flex-wrap:wrap;\n",
              "      gap: 12px;\n",
              "    }\n",
              "\n",
              "    .colab-df-convert {\n",
              "      background-color: #E8F0FE;\n",
              "      border: none;\n",
              "      border-radius: 50%;\n",
              "      cursor: pointer;\n",
              "      display: none;\n",
              "      fill: #1967D2;\n",
              "      height: 32px;\n",
              "      padding: 0 0 0 0;\n",
              "      width: 32px;\n",
              "    }\n",
              "\n",
              "    .colab-df-convert:hover {\n",
              "      background-color: #E2EBFA;\n",
              "      box-shadow: 0px 1px 2px rgba(60, 64, 67, 0.3), 0px 1px 3px 1px rgba(60, 64, 67, 0.15);\n",
              "      fill: #174EA6;\n",
              "    }\n",
              "\n",
              "    [theme=dark] .colab-df-convert {\n",
              "      background-color: #3B4455;\n",
              "      fill: #D2E3FC;\n",
              "    }\n",
              "\n",
              "    [theme=dark] .colab-df-convert:hover {\n",
              "      background-color: #434B5C;\n",
              "      box-shadow: 0px 1px 3px 1px rgba(0, 0, 0, 0.15);\n",
              "      filter: drop-shadow(0px 1px 2px rgba(0, 0, 0, 0.3));\n",
              "      fill: #FFFFFF;\n",
              "    }\n",
              "  </style>\n",
              "\n",
              "      <script>\n",
              "        const buttonEl =\n",
              "          document.querySelector('#df-4c535508-f518-4d41-9fcc-f281100bbf87 button.colab-df-convert');\n",
              "        buttonEl.style.display =\n",
              "          google.colab.kernel.accessAllowed ? 'block' : 'none';\n",
              "\n",
              "        async function convertToInteractive(key) {\n",
              "          const element = document.querySelector('#df-4c535508-f518-4d41-9fcc-f281100bbf87');\n",
              "          const dataTable =\n",
              "            await google.colab.kernel.invokeFunction('convertToInteractive',\n",
              "                                                     [key], {});\n",
              "          if (!dataTable) return;\n",
              "\n",
              "          const docLinkHtml = 'Like what you see? Visit the ' +\n",
              "            '<a target=\"_blank\" href=https://colab.research.google.com/notebooks/data_table.ipynb>data table notebook</a>'\n",
              "            + ' to learn more about interactive tables.';\n",
              "          element.innerHTML = '';\n",
              "          dataTable['output_type'] = 'display_data';\n",
              "          await google.colab.output.renderOutput(dataTable, element);\n",
              "          const docLink = document.createElement('div');\n",
              "          docLink.innerHTML = docLinkHtml;\n",
              "          element.appendChild(docLink);\n",
              "        }\n",
              "      </script>\n",
              "    </div>\n",
              "  </div>\n",
              "  "
            ]
          },
          "metadata": {},
          "execution_count": 9
        }
      ]
    },
    {
      "cell_type": "code",
      "source": [
        "questions= df_baru['add_swr'].values\n",
        "label = df_baru[['Biology', 'Chemistry', 'Maths', 'Physics']].values"
      ],
      "metadata": {
        "id": "z1Xz_GJeFrTB"
      },
      "execution_count": 10,
      "outputs": []
    },
    {
      "cell_type": "code",
      "source": [
        "questions_latih, questions_test, label_latih, label_test = train_test_split(questions, label, test_size=0.2)"
      ],
      "metadata": {
        "id": "zReRiVkRGYCe"
      },
      "execution_count": 11,
      "outputs": []
    },
    {
      "cell_type": "code",
      "source": [
        "tokenizer = Tokenizer(num_words=5000, oov_token='x')\n",
        "tokenizer.fit_on_texts(questions_latih)\n",
        "tokenizer.fit_on_texts(questions_test)\n",
        "\n",
        "sekuens_latih = tokenizer.texts_to_sequences(questions_latih)\n",
        "sekuens_test = tokenizer.texts_to_sequences(questions_test)\n",
        "\n",
        "padded_latih = pad_sequences(sekuens_latih,\n",
        "                             padding='post',\n",
        "                             maxlen=200,\n",
        "                             truncating='post')\n",
        "padded_test = pad_sequences(sekuens_test,\n",
        "                            padding='post',\n",
        "                            maxlen=200,\n",
        "                            truncating='post')"
      ],
      "metadata": {
        "id": "Rf2ZqVg9G6gO"
      },
      "execution_count": 12,
      "outputs": []
    },
    {
      "cell_type": "code",
      "source": [
        "model = tf.keras.Sequential([\n",
        "    tf.keras.layers.Embedding(input_dim=5000, output_dim=16),\n",
        "    tf.keras.layers.LSTM(64),\n",
        "    tf.keras.layers.Dense(128, activation='relu'),\n",
        "    tf.keras.layers.Dense(64, activation='relu'),\n",
        "    tf.keras.layers.Dense(4, activation='softmax')\n",
        "])\n",
        "model.compile(loss='categorical_crossentropy',\n",
        "              optimizer='adam',\n",
        "              metrics=['accuracy'])"
      ],
      "metadata": {
        "id": "BWRz_bQ9-uMU"
      },
      "execution_count": 13,
      "outputs": []
    },
    {
      "cell_type": "code",
      "source": [
        "class Callback(tf.keras.callbacks.Callback): \n",
        "    def on_epoch_end(self, epoch, logs={}): \n",
        "        if(logs.get('accuracy') > 0.90 and logs.get('val_accuracy') > 0.90):\n",
        "            print(\"\\nAkurasi > 90% \") \n",
        "            self.model.stop_training = True \n",
        "     \n",
        "callbacks = Callback()"
      ],
      "metadata": {
        "id": "eOaEtgTgAGdf"
      },
      "execution_count": 14,
      "outputs": []
    },
    {
      "cell_type": "code",
      "source": [
        "num_epochs = 30\n",
        "history = model.fit(padded_latih, label_latih, epochs=num_epochs,\n",
        "                    validation_data=(padded_test, label_test), verbose=2, callbacks=[callbacks])"
      ],
      "metadata": {
        "colab": {
          "base_uri": "https://localhost:8080/"
        },
        "id": "S_OSvu2kAkYZ",
        "outputId": "4c64b74b-a969-49e1-be11-45986763e57a"
      },
      "execution_count": 15,
      "outputs": [
        {
          "output_type": "stream",
          "name": "stdout",
          "text": [
            "Epoch 1/30\n",
            "3063/3063 - 38s - loss: 1.3213 - accuracy: 0.3100 - val_loss: 1.3199 - val_accuracy: 0.3100 - 38s/epoch - 12ms/step\n",
            "Epoch 2/30\n",
            "3063/3063 - 30s - loss: 1.3205 - accuracy: 0.3114 - val_loss: 1.3185 - val_accuracy: 0.3100 - 30s/epoch - 10ms/step\n",
            "Epoch 3/30\n",
            "3063/3063 - 29s - loss: 1.3202 - accuracy: 0.3131 - val_loss: 1.3190 - val_accuracy: 0.3177 - 29s/epoch - 10ms/step\n",
            "Epoch 4/30\n",
            "3063/3063 - 29s - loss: 1.3202 - accuracy: 0.3105 - val_loss: 1.3189 - val_accuracy: 0.3177 - 29s/epoch - 9ms/step\n",
            "Epoch 5/30\n",
            "3063/3063 - 29s - loss: 1.3202 - accuracy: 0.3087 - val_loss: 1.3187 - val_accuracy: 0.3100 - 29s/epoch - 9ms/step\n",
            "Epoch 6/30\n",
            "3063/3063 - 29s - loss: 1.3201 - accuracy: 0.3085 - val_loss: 1.3194 - val_accuracy: 0.3177 - 29s/epoch - 9ms/step\n",
            "Epoch 7/30\n",
            "3063/3063 - 29s - loss: 1.3201 - accuracy: 0.3111 - val_loss: 1.3189 - val_accuracy: 0.3100 - 29s/epoch - 9ms/step\n",
            "Epoch 8/30\n",
            "3063/3063 - 29s - loss: 1.3201 - accuracy: 0.3102 - val_loss: 1.3185 - val_accuracy: 0.3100 - 29s/epoch - 9ms/step\n",
            "Epoch 9/30\n",
            "3063/3063 - 29s - loss: 1.3201 - accuracy: 0.3106 - val_loss: 1.3189 - val_accuracy: 0.3100 - 29s/epoch - 9ms/step\n",
            "Epoch 10/30\n",
            "3063/3063 - 30s - loss: 1.3201 - accuracy: 0.3110 - val_loss: 1.3189 - val_accuracy: 0.3177 - 30s/epoch - 10ms/step\n",
            "Epoch 11/30\n",
            "3063/3063 - 29s - loss: 1.3201 - accuracy: 0.3114 - val_loss: 1.3187 - val_accuracy: 0.3177 - 29s/epoch - 9ms/step\n",
            "Epoch 12/30\n",
            "3063/3063 - 29s - loss: 1.3201 - accuracy: 0.3115 - val_loss: 1.3184 - val_accuracy: 0.3177 - 29s/epoch - 9ms/step\n",
            "Epoch 13/30\n",
            "3063/3063 - 31s - loss: 1.3200 - accuracy: 0.3105 - val_loss: 1.3185 - val_accuracy: 0.3177 - 31s/epoch - 10ms/step\n",
            "Epoch 14/30\n",
            "3063/3063 - 29s - loss: 1.3200 - accuracy: 0.3114 - val_loss: 1.3191 - val_accuracy: 0.3177 - 29s/epoch - 9ms/step\n",
            "Epoch 15/30\n",
            "3063/3063 - 29s - loss: 1.3200 - accuracy: 0.3110 - val_loss: 1.3185 - val_accuracy: 0.3177 - 29s/epoch - 10ms/step\n",
            "Epoch 16/30\n",
            "3063/3063 - 29s - loss: 1.3200 - accuracy: 0.3111 - val_loss: 1.3185 - val_accuracy: 0.3177 - 29s/epoch - 10ms/step\n",
            "Epoch 17/30\n",
            "3063/3063 - 31s - loss: 1.3200 - accuracy: 0.3125 - val_loss: 1.3185 - val_accuracy: 0.3178 - 31s/epoch - 10ms/step\n",
            "Epoch 18/30\n",
            "3063/3063 - 29s - loss: 1.3267 - accuracy: 0.3111 - val_loss: 1.3185 - val_accuracy: 0.3100 - 29s/epoch - 9ms/step\n",
            "Epoch 19/30\n",
            "3063/3063 - 31s - loss: 1.3209 - accuracy: 0.3121 - val_loss: 1.3186 - val_accuracy: 0.3177 - 31s/epoch - 10ms/step\n",
            "Epoch 20/30\n",
            "3063/3063 - 29s - loss: 1.3200 - accuracy: 0.3112 - val_loss: 1.3190 - val_accuracy: 0.3100 - 29s/epoch - 9ms/step\n",
            "Epoch 21/30\n",
            "3063/3063 - 29s - loss: 1.3200 - accuracy: 0.3104 - val_loss: 1.3183 - val_accuracy: 0.3179 - 29s/epoch - 9ms/step\n",
            "Epoch 22/30\n",
            "3063/3063 - 29s - loss: 1.1902 - accuracy: 0.4385 - val_loss: 0.9949 - val_accuracy: 0.6003 - 29s/epoch - 10ms/step\n",
            "Epoch 23/30\n",
            "3063/3063 - 31s - loss: 0.5093 - accuracy: 0.8119 - val_loss: 0.3149 - val_accuracy: 0.8922 - 31s/epoch - 10ms/step\n",
            "Epoch 24/30\n",
            "\n",
            "Akurasi > 90% \n",
            "3063/3063 - 29s - loss: 0.2591 - accuracy: 0.9125 - val_loss: 0.2540 - val_accuracy: 0.9120 - 29s/epoch - 9ms/step\n"
          ]
        }
      ]
    },
    {
      "cell_type": "code",
      "source": [
        "plt.plot(history.history['loss'])\n",
        "plt.plot(history.history['val_loss'])\n",
        "plt.title('Model loss')\n",
        "plt.ylabel('Loss')\n",
        "plt.xlabel('Epoch')\n",
        "plt.legend(['Train'], ['Test'], loc='upper left')\n",
        "plt.show"
      ],
      "metadata": {
        "colab": {
          "base_uri": "https://localhost:8080/",
          "height": 382
        },
        "id": "RhiVJrSjBR9y",
        "outputId": "bd4c9a8c-b5f0-48f5-f0e6-270440e493ef"
      },
      "execution_count": 16,
      "outputs": [
        {
          "output_type": "stream",
          "name": "stderr",
          "text": [
            "/usr/local/lib/python3.7/dist-packages/ipykernel_launcher.py:6: UserWarning: Legend does not support 'Train' instances.\n",
            "A proxy artist may be used instead.\n",
            "See: http://matplotlib.org/users/legend_guide.html#creating-artists-specifically-for-adding-to-the-legend-aka-proxy-artists\n",
            "  \n"
          ]
        },
        {
          "output_type": "execute_result",
          "data": {
            "text/plain": [
              "<function matplotlib.pyplot.show(*args, **kw)>"
            ]
          },
          "metadata": {},
          "execution_count": 16
        },
        {
          "output_type": "display_data",
          "data": {
            "text/plain": [
              "<Figure size 432x288 with 1 Axes>"
            ],
            "image/png": "[encoded data removed]"
          },
          "metadata": {
            "needs_background": "light"
          }
        }
      ]
    },
    {
      "cell_type": "code",
      "source": [
        "plt.plot(history.history['accuracy'])\n",
        "plt.plot(history.history['val_accuracy'])\n",
        "plt.title('Model Accuracy')\n",
        "plt.ylabel('Accuracy')\n",
        "plt.xlabel('Epoch')\n",
        "plt.legend(['Train'], ['Test'], loc='upper left')\n",
        "plt.show"
      ],
      "metadata": {
        "colab": {
          "base_uri": "https://localhost:8080/",
          "height": 382
        },
        "id": "7pddvGAcWTIh",
        "outputId": "1970db0b-5565-4e01-cb23-29acbd477833"
      },
      "execution_count": 17,
      "outputs": [
        {
          "output_type": "stream",
          "name": "stderr",
          "text": [
            "/usr/local/lib/python3.7/dist-packages/ipykernel_launcher.py:6: UserWarning: Legend does not support 'Train' instances.\n",
            "A proxy artist may be used instead.\n",
            "See: http://matplotlib.org/users/legend_guide.html#creating-artists-specifically-for-adding-to-the-legend-aka-proxy-artists\n",
            "  \n"
          ]
        },
        {
          "output_type": "execute_result",
          "data": {
            "text/plain": [
              "<function matplotlib.pyplot.show(*args, **kw)>"
            ]
          },
          "metadata": {},
          "execution_count": 17
        },
        {
          "output_type": "display_data",
          "data": {
            "text/plain": [
              "<Figure size 432x288 with 1 Axes>"
            ],
            "image/png": "[encoded data removed]"
          },
          "metadata": {
            "needs_background": "light"
          }
        }
      ]
    }
  ]
}